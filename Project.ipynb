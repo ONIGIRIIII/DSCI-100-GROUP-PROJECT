{
 "cells": [
  {
   "cell_type": "markdown",
   "id": "5b8e5616-b313-463c-a569-9378af916d14",
   "metadata": {},
   "source": [
    "Proposal for classification of radio signals into pulsars or non-pulsar using K-nearest neighbors"
   ]
  },
  {
   "cell_type": "markdown",
   "id": "04d34136-c680-447b-bb15-4fdd1396c8c6",
   "metadata": {},
   "source": [
    "INTRODUCTION:\n",
    "\n",
    "A pulsar is a highly magnetized rotating neutron star that emits beams of electromagnetic radiation out of its magnetic poles.\n",
    "\n",
    "Since pulsars rotate rapidly, the emission of a pulsar forms a pattern that repeats periodically. This emission pattern varies slightly with each rotation and is unique for a pulsar. Therefore, the signal from a pulsar is averaged over many rotations giving us the fold/integrated profile of a pulsar.\n",
    "\n",
    "In practice, most signals are due to radio frequency interference (RFI) and noise. Without additional information, all “candidate” signals collected by a radio telescope could be classified as pulsars. To help differentiate pulsars and non-pulsar signals, we also use the DM-SNR (Dispersion Measure vs Signal to Noise Ratio) curve for the signal.\n",
    "\n",
    "Our question is: Given a new candidate signal, can we classify it as a pulsar or non-pulsar?\n",
    "\n",
    "We use the HTRU2 data set available at the UCL machine learning repository. In this dataset, we use characteristics such as mean, standard deviation, excess kurtosis, and skewness for both the integrated profile and DM-SNR curve of a signal. For each candidate signal, there is a class label which classifies the detection as either a pulsar(1) or non-pulsar(0); a human annotator has classified the signals.\n"
   ]
  },
  {
   "cell_type": "code",
   "execution_count": 2,
   "id": "2811233d-bfa6-4539-bc4b-57fe0f9ad3ba",
   "metadata": {},
   "outputs": [
    {
     "name": "stderr",
     "output_type": "stream",
     "text": [
      "── \u001b[1mAttaching packages\u001b[22m ─────────────────────────────────────── tidyverse 1.3.1 ──\n",
      "\n",
      "\u001b[32m✔\u001b[39m \u001b[34mggplot2\u001b[39m 3.3.6     \u001b[32m✔\u001b[39m \u001b[34mpurrr  \u001b[39m 0.3.4\n",
      "\u001b[32m✔\u001b[39m \u001b[34mtibble \u001b[39m 3.1.7     \u001b[32m✔\u001b[39m \u001b[34mdplyr  \u001b[39m 1.0.9\n",
      "\u001b[32m✔\u001b[39m \u001b[34mtidyr  \u001b[39m 1.2.0     \u001b[32m✔\u001b[39m \u001b[34mstringr\u001b[39m 1.4.0\n",
      "\u001b[32m✔\u001b[39m \u001b[34mreadr  \u001b[39m 2.1.2     \u001b[32m✔\u001b[39m \u001b[34mforcats\u001b[39m 0.5.1\n",
      "\n",
      "── \u001b[1mConflicts\u001b[22m ────────────────────────────────────────── tidyverse_conflicts() ──\n",
      "\u001b[31m✖\u001b[39m \u001b[34mdplyr\u001b[39m::\u001b[32mfilter()\u001b[39m masks \u001b[34mstats\u001b[39m::filter()\n",
      "\u001b[31m✖\u001b[39m \u001b[34mdplyr\u001b[39m::\u001b[32mlag()\u001b[39m    masks \u001b[34mstats\u001b[39m::lag()\n",
      "\n",
      "── \u001b[1mAttaching packages\u001b[22m ────────────────────────────────────── tidymodels 1.0.0 ──\n",
      "\n",
      "\u001b[32m✔\u001b[39m \u001b[34mbroom       \u001b[39m 1.0.0     \u001b[32m✔\u001b[39m \u001b[34mrsample     \u001b[39m 1.0.0\n",
      "\u001b[32m✔\u001b[39m \u001b[34mdials       \u001b[39m 1.0.0     \u001b[32m✔\u001b[39m \u001b[34mtune        \u001b[39m 1.0.0\n",
      "\u001b[32m✔\u001b[39m \u001b[34minfer       \u001b[39m 1.0.2     \u001b[32m✔\u001b[39m \u001b[34mworkflows   \u001b[39m 1.0.0\n",
      "\u001b[32m✔\u001b[39m \u001b[34mmodeldata   \u001b[39m 1.0.0     \u001b[32m✔\u001b[39m \u001b[34mworkflowsets\u001b[39m 1.0.0\n",
      "\u001b[32m✔\u001b[39m \u001b[34mparsnip     \u001b[39m 1.0.0     \u001b[32m✔\u001b[39m \u001b[34myardstick   \u001b[39m 1.0.0\n",
      "\u001b[32m✔\u001b[39m \u001b[34mrecipes     \u001b[39m 1.0.1     \n",
      "\n",
      "── \u001b[1mConflicts\u001b[22m ───────────────────────────────────────── tidymodels_conflicts() ──\n",
      "\u001b[31m✖\u001b[39m \u001b[34mscales\u001b[39m::\u001b[32mdiscard()\u001b[39m masks \u001b[34mpurrr\u001b[39m::discard()\n",
      "\u001b[31m✖\u001b[39m \u001b[34mdplyr\u001b[39m::\u001b[32mfilter()\u001b[39m   masks \u001b[34mstats\u001b[39m::filter()\n",
      "\u001b[31m✖\u001b[39m \u001b[34mrecipes\u001b[39m::\u001b[32mfixed()\u001b[39m  masks \u001b[34mstringr\u001b[39m::fixed()\n",
      "\u001b[31m✖\u001b[39m \u001b[34mdplyr\u001b[39m::\u001b[32mlag()\u001b[39m      masks \u001b[34mstats\u001b[39m::lag()\n",
      "\u001b[31m✖\u001b[39m \u001b[34myardstick\u001b[39m::\u001b[32mspec()\u001b[39m masks \u001b[34mreadr\u001b[39m::spec()\n",
      "\u001b[31m✖\u001b[39m \u001b[34mrecipes\u001b[39m::\u001b[32mstep()\u001b[39m   masks \u001b[34mstats\u001b[39m::step()\n",
      "\u001b[34m•\u001b[39m Use suppressPackageStartupMessages() to eliminate package startup messages\n",
      "\n"
     ]
    }
   ],
   "source": [
    "library(tidyverse)\n",
    "library(repr)\n",
    "library(tidymodels)\n",
    "options(repr.matrix.max.rows = 6)\n",
    "options(repr.plot.height = 9, repr.plot.width = 9)"
   ]
  },
  {
   "cell_type": "code",
   "execution_count": 3,
   "id": "76ca0090-4c9f-4c6a-9d2d-9a60555d323d",
   "metadata": {},
   "outputs": [
    {
     "name": "stderr",
     "output_type": "stream",
     "text": [
      "\u001b[1mRows: \u001b[22m\u001b[34m17898\u001b[39m \u001b[1mColumns: \u001b[22m\u001b[34m9\u001b[39m\n",
      "\u001b[36m──\u001b[39m \u001b[1mColumn specification\u001b[22m \u001b[36m────────────────────────────────────────────────────────\u001b[39m\n",
      "\u001b[1mDelimiter:\u001b[22m \",\"\n",
      "\u001b[32mdbl\u001b[39m (9): M_IP, SD_IP, EK_IP, SK_IP, M_DM_SNR, SD_DM_SNR, EK_DM_SNR, SK_DM_SN...\n",
      "\n",
      "\u001b[36mℹ\u001b[39m Use `spec()` to retrieve the full column specification for this data.\n",
      "\u001b[36mℹ\u001b[39m Specify the column types or set `show_col_types = FALSE` to quiet this message.\n"
     ]
    },
    {
     "data": {
      "text/html": [
       "<table class=\"dataframe\">\n",
       "<caption>A tibble: 17898 × 9</caption>\n",
       "<thead>\n",
       "\t<tr><th scope=col>M_IP</th><th scope=col>SD_IP</th><th scope=col>EK_IP</th><th scope=col>SK_IP</th><th scope=col>M_DM_SNR</th><th scope=col>SD_DM_SNR</th><th scope=col>EK_DM_SNR</th><th scope=col>SK_DM_SNR</th><th scope=col>CLASS</th></tr>\n",
       "\t<tr><th scope=col>&lt;dbl&gt;</th><th scope=col>&lt;dbl&gt;</th><th scope=col>&lt;dbl&gt;</th><th scope=col>&lt;dbl&gt;</th><th scope=col>&lt;dbl&gt;</th><th scope=col>&lt;dbl&gt;</th><th scope=col>&lt;dbl&gt;</th><th scope=col>&lt;dbl&gt;</th><th scope=col>&lt;fct&gt;</th></tr>\n",
       "</thead>\n",
       "<tbody>\n",
       "\t<tr><td>140.5625</td><td>55.68378</td><td>-0.2345714</td><td>-0.6996484</td><td>3.199833</td><td>19.11043</td><td> 7.975532</td><td> 74.24222</td><td>0</td></tr>\n",
       "\t<tr><td>102.5078</td><td>58.88243</td><td> 0.4653182</td><td>-0.5150879</td><td>1.677258</td><td>14.86015</td><td>10.576487</td><td>127.39358</td><td>0</td></tr>\n",
       "\t<tr><td>103.0156</td><td>39.34165</td><td> 0.3233284</td><td> 1.0511644</td><td>3.121237</td><td>21.74467</td><td> 7.735822</td><td> 63.17191</td><td>0</td></tr>\n",
       "\t<tr><td>⋮</td><td>⋮</td><td>⋮</td><td>⋮</td><td>⋮</td><td>⋮</td><td>⋮</td><td>⋮</td><td>⋮</td></tr>\n",
       "\t<tr><td>119.3359</td><td>59.93594</td><td>0.1593631</td><td>-0.74302540</td><td> 21.430602</td><td>58.87200</td><td> 2.499517</td><td>  4.595173</td><td>0</td></tr>\n",
       "\t<tr><td>114.5078</td><td>53.90240</td><td>0.2011614</td><td>-0.02478884</td><td>  1.946488</td><td>13.38173</td><td>10.007967</td><td>134.238910</td><td>0</td></tr>\n",
       "\t<tr><td> 57.0625</td><td>85.79734</td><td>1.4063910</td><td> 0.08951971</td><td>188.306020</td><td>64.71256</td><td>-1.597527</td><td>  1.429475</td><td>0</td></tr>\n",
       "</tbody>\n",
       "</table>\n"
      ],
      "text/latex": [
       "A tibble: 17898 × 9\n",
       "\\begin{tabular}{lllllllll}\n",
       " M\\_IP & SD\\_IP & EK\\_IP & SK\\_IP & M\\_DM\\_SNR & SD\\_DM\\_SNR & EK\\_DM\\_SNR & SK\\_DM\\_SNR & CLASS\\\\\n",
       " <dbl> & <dbl> & <dbl> & <dbl> & <dbl> & <dbl> & <dbl> & <dbl> & <fct>\\\\\n",
       "\\hline\n",
       "\t 140.5625 & 55.68378 & -0.2345714 & -0.6996484 & 3.199833 & 19.11043 &  7.975532 &  74.24222 & 0\\\\\n",
       "\t 102.5078 & 58.88243 &  0.4653182 & -0.5150879 & 1.677258 & 14.86015 & 10.576487 & 127.39358 & 0\\\\\n",
       "\t 103.0156 & 39.34165 &  0.3233284 &  1.0511644 & 3.121237 & 21.74467 &  7.735822 &  63.17191 & 0\\\\\n",
       "\t ⋮ & ⋮ & ⋮ & ⋮ & ⋮ & ⋮ & ⋮ & ⋮ & ⋮\\\\\n",
       "\t 119.3359 & 59.93594 & 0.1593631 & -0.74302540 &  21.430602 & 58.87200 &  2.499517 &   4.595173 & 0\\\\\n",
       "\t 114.5078 & 53.90240 & 0.2011614 & -0.02478884 &   1.946488 & 13.38173 & 10.007967 & 134.238910 & 0\\\\\n",
       "\t  57.0625 & 85.79734 & 1.4063910 &  0.08951971 & 188.306020 & 64.71256 & -1.597527 &   1.429475 & 0\\\\\n",
       "\\end{tabular}\n"
      ],
      "text/markdown": [
       "\n",
       "A tibble: 17898 × 9\n",
       "\n",
       "| M_IP &lt;dbl&gt; | SD_IP &lt;dbl&gt; | EK_IP &lt;dbl&gt; | SK_IP &lt;dbl&gt; | M_DM_SNR &lt;dbl&gt; | SD_DM_SNR &lt;dbl&gt; | EK_DM_SNR &lt;dbl&gt; | SK_DM_SNR &lt;dbl&gt; | CLASS &lt;fct&gt; |\n",
       "|---|---|---|---|---|---|---|---|---|\n",
       "| 140.5625 | 55.68378 | -0.2345714 | -0.6996484 | 3.199833 | 19.11043 |  7.975532 |  74.24222 | 0 |\n",
       "| 102.5078 | 58.88243 |  0.4653182 | -0.5150879 | 1.677258 | 14.86015 | 10.576487 | 127.39358 | 0 |\n",
       "| 103.0156 | 39.34165 |  0.3233284 |  1.0511644 | 3.121237 | 21.74467 |  7.735822 |  63.17191 | 0 |\n",
       "| ⋮ | ⋮ | ⋮ | ⋮ | ⋮ | ⋮ | ⋮ | ⋮ | ⋮ |\n",
       "| 119.3359 | 59.93594 | 0.1593631 | -0.74302540 |  21.430602 | 58.87200 |  2.499517 |   4.595173 | 0 |\n",
       "| 114.5078 | 53.90240 | 0.2011614 | -0.02478884 |   1.946488 | 13.38173 | 10.007967 | 134.238910 | 0 |\n",
       "|  57.0625 | 85.79734 | 1.4063910 |  0.08951971 | 188.306020 | 64.71256 | -1.597527 |   1.429475 | 0 |\n",
       "\n"
      ],
      "text/plain": [
       "      M_IP     SD_IP    EK_IP      SK_IP       M_DM_SNR   SD_DM_SNR EK_DM_SNR\n",
       "1     140.5625 55.68378 -0.2345714 -0.6996484  3.199833   19.11043   7.975532\n",
       "2     102.5078 58.88243  0.4653182 -0.5150879  1.677258   14.86015  10.576487\n",
       "3     103.0156 39.34165  0.3233284  1.0511644  3.121237   21.74467   7.735822\n",
       "⋮     ⋮        ⋮        ⋮          ⋮           ⋮          ⋮         ⋮        \n",
       "17896 119.3359 59.93594 0.1593631  -0.74302540  21.430602 58.87200   2.499517\n",
       "17897 114.5078 53.90240 0.2011614  -0.02478884   1.946488 13.38173  10.007967\n",
       "17898  57.0625 85.79734 1.4063910   0.08951971 188.306020 64.71256  -1.597527\n",
       "      SK_DM_SNR  CLASS\n",
       "1      74.24222  0    \n",
       "2     127.39358  0    \n",
       "3      63.17191  0    \n",
       "⋮     ⋮          ⋮    \n",
       "17896   4.595173 0    \n",
       "17897 134.238910 0    \n",
       "17898   1.429475 0    "
      ]
     },
     "metadata": {},
     "output_type": "display_data"
    }
   ],
   "source": [
    "# Column names are:\n",
    "# M_IP -> Mean of the Integrated Profile\n",
    "# SD_IP -> Standard deviation of the Integrated Profile\n",
    "# EK_IP -> Excess kurtosis of the Integrated Profile\n",
    "# SK_IP -> Skewness of the Integrated Profile\n",
    "# M_DM_SNR -> Mean of the DM-SNR curve\n",
    "# SD_DM_SNR -> Standard deviation of the DM-SNR curve\n",
    "# EK_DM_SNR -> Excess kurtosis of the DM-SNR curve\n",
    "# SK_DM_SNR -> Skewness of the DM-SNR curve\n",
    "# CLASS -> Label for an observation pulsar(1) and non-pulsar(0)\n",
    "pulsar <- read_csv(\"HTRU_2.csv\", \n",
    "                   col_names = c(\"M_IP\",\"SD_IP\",\"EK_IP\",\"SK_IP\",\"M_DM_SNR\",\"SD_DM_SNR\",\"EK_DM_SNR\",\"SK_DM_SNR\",\"CLASS\")) |>\n",
    "                mutate(CLASS = as_factor(CLASS))\n",
    "pulsar\n",
    "# CLASS variable is converted from double to factor type with two levels\n",
    "# The data is tidy"
   ]
  },
  {
   "cell_type": "code",
   "execution_count": 4,
   "id": "2ee9c1f0-4883-412f-8551-b1c7cc55ce99",
   "metadata": {},
   "outputs": [],
   "source": [
    "pulsar_split <- initial_split(pulsar, prop = 0.8, strata = CLASS)\n",
    "pulsar_train <- training(pulsar_split)\n",
    "pulsar_test <- testing(pulsar_split)"
   ]
  },
  {
   "cell_type": "code",
   "execution_count": 17,
   "id": "eefef4ab-92f7-46d6-aca4-a55c61732ff2",
   "metadata": {},
   "outputs": [],
   "source": [
    "pulsar_recipe <- recipe(CLASS ~ EK_IP + M_IP + M_DM_SNR,data = pulsar_train) |>\n",
    "                    step_scale(all_predictors()) |>\n",
    "                    step_center(all_predictors())\n",
    "\n",
    "knn_spec <- nearest_neighbor(weight_func = \"rectangular\", neighbors = tune()) |>\n",
    "                set_engine(\"kknn\") |>\n",
    "                set_mode(\"classification\")\n",
    "\n",
    "pulsar_vfold <- vfold_cv(pulsar_train, v = 5, strata = CLASS)\n",
    "\n",
    "k_grid_vals <- tibble(neighbors = seq(1:10))\n",
    "\n",
    "pulsar_fit <- workflow() |>\n",
    "                add_recipe(pulsar_recipe) |>\n",
    "                add_model(knn_spec) |>\n",
    "                tune_grid(resamples = pulsar_vfold, grid = k_grid_vals) |>\n",
    "                collect_metrics() |>\n",
    "                filter(.metric == \"accuracy\")"
   ]
  },
  {
   "cell_type": "code",
   "execution_count": 18,
   "id": "5e1c7660-2fff-4aab-9028-883e3d32bc7c",
   "metadata": {},
   "outputs": [
    {
     "data": {
      "text/html": [
       "<table class=\"dataframe\">\n",
       "<caption>A tibble: 10 × 7</caption>\n",
       "<thead>\n",
       "\t<tr><th scope=col>neighbors</th><th scope=col>.metric</th><th scope=col>.estimator</th><th scope=col>mean</th><th scope=col>n</th><th scope=col>std_err</th><th scope=col>.config</th></tr>\n",
       "\t<tr><th scope=col>&lt;int&gt;</th><th scope=col>&lt;chr&gt;</th><th scope=col>&lt;chr&gt;</th><th scope=col>&lt;dbl&gt;</th><th scope=col>&lt;int&gt;</th><th scope=col>&lt;dbl&gt;</th><th scope=col>&lt;chr&gt;</th></tr>\n",
       "</thead>\n",
       "<tbody>\n",
       "\t<tr><td>1</td><td>accuracy</td><td>binary</td><td>0.9668247</td><td>5</td><td>0.001785754</td><td>Preprocessor1_Model01</td></tr>\n",
       "\t<tr><td>2</td><td>accuracy</td><td>binary</td><td>0.9668247</td><td>5</td><td>0.001785754</td><td>Preprocessor1_Model02</td></tr>\n",
       "\t<tr><td>3</td><td>accuracy</td><td>binary</td><td>0.9767423</td><td>5</td><td>0.001253325</td><td>Preprocessor1_Model03</td></tr>\n",
       "\t<tr><td>⋮</td><td>⋮</td><td>⋮</td><td>⋮</td><td>⋮</td><td>⋮</td><td>⋮</td></tr>\n",
       "\t<tr><td> 8</td><td>accuracy</td><td>binary</td><td>0.9779994</td><td>5</td><td>0.001195827</td><td>Preprocessor1_Model08</td></tr>\n",
       "\t<tr><td> 9</td><td>accuracy</td><td>binary</td><td>0.9777200</td><td>5</td><td>0.001800026</td><td>Preprocessor1_Model09</td></tr>\n",
       "\t<tr><td>10</td><td>accuracy</td><td>binary</td><td>0.9777200</td><td>5</td><td>0.001800026</td><td>Preprocessor1_Model10</td></tr>\n",
       "</tbody>\n",
       "</table>\n"
      ],
      "text/latex": [
       "A tibble: 10 × 7\n",
       "\\begin{tabular}{lllllll}\n",
       " neighbors & .metric & .estimator & mean & n & std\\_err & .config\\\\\n",
       " <int> & <chr> & <chr> & <dbl> & <int> & <dbl> & <chr>\\\\\n",
       "\\hline\n",
       "\t 1 & accuracy & binary & 0.9668247 & 5 & 0.001785754 & Preprocessor1\\_Model01\\\\\n",
       "\t 2 & accuracy & binary & 0.9668247 & 5 & 0.001785754 & Preprocessor1\\_Model02\\\\\n",
       "\t 3 & accuracy & binary & 0.9767423 & 5 & 0.001253325 & Preprocessor1\\_Model03\\\\\n",
       "\t ⋮ & ⋮ & ⋮ & ⋮ & ⋮ & ⋮ & ⋮\\\\\n",
       "\t  8 & accuracy & binary & 0.9779994 & 5 & 0.001195827 & Preprocessor1\\_Model08\\\\\n",
       "\t  9 & accuracy & binary & 0.9777200 & 5 & 0.001800026 & Preprocessor1\\_Model09\\\\\n",
       "\t 10 & accuracy & binary & 0.9777200 & 5 & 0.001800026 & Preprocessor1\\_Model10\\\\\n",
       "\\end{tabular}\n"
      ],
      "text/markdown": [
       "\n",
       "A tibble: 10 × 7\n",
       "\n",
       "| neighbors &lt;int&gt; | .metric &lt;chr&gt; | .estimator &lt;chr&gt; | mean &lt;dbl&gt; | n &lt;int&gt; | std_err &lt;dbl&gt; | .config &lt;chr&gt; |\n",
       "|---|---|---|---|---|---|---|\n",
       "| 1 | accuracy | binary | 0.9668247 | 5 | 0.001785754 | Preprocessor1_Model01 |\n",
       "| 2 | accuracy | binary | 0.9668247 | 5 | 0.001785754 | Preprocessor1_Model02 |\n",
       "| 3 | accuracy | binary | 0.9767423 | 5 | 0.001253325 | Preprocessor1_Model03 |\n",
       "| ⋮ | ⋮ | ⋮ | ⋮ | ⋮ | ⋮ | ⋮ |\n",
       "|  8 | accuracy | binary | 0.9779994 | 5 | 0.001195827 | Preprocessor1_Model08 |\n",
       "|  9 | accuracy | binary | 0.9777200 | 5 | 0.001800026 | Preprocessor1_Model09 |\n",
       "| 10 | accuracy | binary | 0.9777200 | 5 | 0.001800026 | Preprocessor1_Model10 |\n",
       "\n"
      ],
      "text/plain": [
       "   neighbors .metric  .estimator mean      n std_err     .config              \n",
       "1  1         accuracy binary     0.9668247 5 0.001785754 Preprocessor1_Model01\n",
       "2  2         accuracy binary     0.9668247 5 0.001785754 Preprocessor1_Model02\n",
       "3  3         accuracy binary     0.9767423 5 0.001253325 Preprocessor1_Model03\n",
       "⋮  ⋮         ⋮        ⋮          ⋮         ⋮ ⋮           ⋮                    \n",
       "8   8        accuracy binary     0.9779994 5 0.001195827 Preprocessor1_Model08\n",
       "9   9        accuracy binary     0.9777200 5 0.001800026 Preprocessor1_Model09\n",
       "10 10        accuracy binary     0.9777200 5 0.001800026 Preprocessor1_Model10"
      ]
     },
     "metadata": {},
     "output_type": "display_data"
    }
   ],
   "source": [
    "pulsar_fit"
   ]
  },
  {
   "cell_type": "code",
   "execution_count": 19,
   "id": "1c31c57c-d185-4b5e-a5b2-4e1c8951c515",
   "metadata": {},
   "outputs": [
    {
     "data": {
      "image/png": "[encoded data removed]",
      "text/plain": [
       "plot without title"
      ]
     },
     "metadata": {
      "image/png": {
       "height": 540,
       "width": 540
      }
     },
     "output_type": "display_data"
    }
   ],
   "source": [
    "K_graph <- ggplot(pulsar_fit, aes(x = neighbors, y = mean)) +\n",
    "            geom_point() +\n",
    "            geom_line() +\n",
    "            labs(x = \"Neighbors\", y = \"Expected Accuracy\") +\n",
    "            theme(text = element_text(size = 20))\n",
    "K_graph"
   ]
  },
  {
   "cell_type": "code",
   "execution_count": 24,
   "id": "2aca8fd6-08af-46fa-897b-760998c9658b",
   "metadata": {},
   "outputs": [],
   "source": [
    "knn_spec_6 <- nearest_neighbor(weight_func = \"rectangular\", neighbors = 6) |>\n",
    "                set_engine(\"kknn\") |>\n",
    "                set_mode(\"classification\")\n",
    "\n",
    "pulsar_fit <- workflow() |>\n",
    "                add_recipe(pulsar_recipe) |>\n",
    "                add_model(knn_spec_6) |>\n",
    "                fit(pulsar_train) "
   ]
  },
  {
   "cell_type": "code",
   "execution_count": 30,
   "id": "e6558477-0a28-4ef0-adad-07d391ca2210",
   "metadata": {},
   "outputs": [
    {
     "data": {
      "text/html": [
       "<table class=\"dataframe\">\n",
       "<caption>A tibble: 3580 × 10</caption>\n",
       "<thead>\n",
       "\t<tr><th scope=col>.pred_class</th><th scope=col>M_IP</th><th scope=col>SD_IP</th><th scope=col>EK_IP</th><th scope=col>SK_IP</th><th scope=col>M_DM_SNR</th><th scope=col>SD_DM_SNR</th><th scope=col>EK_DM_SNR</th><th scope=col>SK_DM_SNR</th><th scope=col>CLASS</th></tr>\n",
       "\t<tr><th scope=col>&lt;fct&gt;</th><th scope=col>&lt;dbl&gt;</th><th scope=col>&lt;dbl&gt;</th><th scope=col>&lt;dbl&gt;</th><th scope=col>&lt;dbl&gt;</th><th scope=col>&lt;dbl&gt;</th><th scope=col>&lt;dbl&gt;</th><th scope=col>&lt;dbl&gt;</th><th scope=col>&lt;dbl&gt;</th><th scope=col>&lt;fct&gt;</th></tr>\n",
       "</thead>\n",
       "<tbody>\n",
       "\t<tr><td>0</td><td> 88.72656</td><td>40.67223</td><td> 0.60086608</td><td> 1.1234917</td><td>1.1789298</td><td>11.468720</td><td>14.269573</td><td>252.56731</td><td>0</td></tr>\n",
       "\t<tr><td>0</td><td>119.48438</td><td>48.76506</td><td> 0.03146022</td><td>-0.1121676</td><td>0.9991639</td><td> 9.279612</td><td>19.206230</td><td>479.75657</td><td>0</td></tr>\n",
       "\t<tr><td>0</td><td>136.09375</td><td>51.69100</td><td>-0.04590893</td><td>-0.2718164</td><td>9.3428094</td><td>38.096400</td><td> 4.345438</td><td> 18.67365</td><td>0</td></tr>\n",
       "\t<tr><td>⋮</td><td>⋮</td><td>⋮</td><td>⋮</td><td>⋮</td><td>⋮</td><td>⋮</td><td>⋮</td><td>⋮</td><td>⋮</td></tr>\n",
       "\t<tr><td>0</td><td>127.0703</td><td>47.66356</td><td> 0.006552426</td><td>-0.12363370</td><td>0.8536789</td><td>11.19721</td><td>16.12270</td><td>296.5077</td><td>0</td></tr>\n",
       "\t<tr><td>0</td><td>136.4297</td><td>59.84742</td><td>-0.187845581</td><td>-0.73812297</td><td>1.2968227</td><td>12.16606</td><td>15.45026</td><td>285.9310</td><td>0</td></tr>\n",
       "\t<tr><td>0</td><td>114.5078</td><td>53.90240</td><td> 0.201161383</td><td>-0.02478884</td><td>1.9464883</td><td>13.38173</td><td>10.00797</td><td>134.2389</td><td>0</td></tr>\n",
       "</tbody>\n",
       "</table>\n"
      ],
      "text/latex": [
       "A tibble: 3580 × 10\n",
       "\\begin{tabular}{llllllllll}\n",
       " .pred\\_class & M\\_IP & SD\\_IP & EK\\_IP & SK\\_IP & M\\_DM\\_SNR & SD\\_DM\\_SNR & EK\\_DM\\_SNR & SK\\_DM\\_SNR & CLASS\\\\\n",
       " <fct> & <dbl> & <dbl> & <dbl> & <dbl> & <dbl> & <dbl> & <dbl> & <dbl> & <fct>\\\\\n",
       "\\hline\n",
       "\t 0 &  88.72656 & 40.67223 &  0.60086608 &  1.1234917 & 1.1789298 & 11.468720 & 14.269573 & 252.56731 & 0\\\\\n",
       "\t 0 & 119.48438 & 48.76506 &  0.03146022 & -0.1121676 & 0.9991639 &  9.279612 & 19.206230 & 479.75657 & 0\\\\\n",
       "\t 0 & 136.09375 & 51.69100 & -0.04590893 & -0.2718164 & 9.3428094 & 38.096400 &  4.345438 &  18.67365 & 0\\\\\n",
       "\t ⋮ & ⋮ & ⋮ & ⋮ & ⋮ & ⋮ & ⋮ & ⋮ & ⋮ & ⋮\\\\\n",
       "\t 0 & 127.0703 & 47.66356 &  0.006552426 & -0.12363370 & 0.8536789 & 11.19721 & 16.12270 & 296.5077 & 0\\\\\n",
       "\t 0 & 136.4297 & 59.84742 & -0.187845581 & -0.73812297 & 1.2968227 & 12.16606 & 15.45026 & 285.9310 & 0\\\\\n",
       "\t 0 & 114.5078 & 53.90240 &  0.201161383 & -0.02478884 & 1.9464883 & 13.38173 & 10.00797 & 134.2389 & 0\\\\\n",
       "\\end{tabular}\n"
      ],
      "text/markdown": [
       "\n",
       "A tibble: 3580 × 10\n",
       "\n",
       "| .pred_class &lt;fct&gt; | M_IP &lt;dbl&gt; | SD_IP &lt;dbl&gt; | EK_IP &lt;dbl&gt; | SK_IP &lt;dbl&gt; | M_DM_SNR &lt;dbl&gt; | SD_DM_SNR &lt;dbl&gt; | EK_DM_SNR &lt;dbl&gt; | SK_DM_SNR &lt;dbl&gt; | CLASS &lt;fct&gt; |\n",
       "|---|---|---|---|---|---|---|---|---|---|\n",
       "| 0 |  88.72656 | 40.67223 |  0.60086608 |  1.1234917 | 1.1789298 | 11.468720 | 14.269573 | 252.56731 | 0 |\n",
       "| 0 | 119.48438 | 48.76506 |  0.03146022 | -0.1121676 | 0.9991639 |  9.279612 | 19.206230 | 479.75657 | 0 |\n",
       "| 0 | 136.09375 | 51.69100 | -0.04590893 | -0.2718164 | 9.3428094 | 38.096400 |  4.345438 |  18.67365 | 0 |\n",
       "| ⋮ | ⋮ | ⋮ | ⋮ | ⋮ | ⋮ | ⋮ | ⋮ | ⋮ | ⋮ |\n",
       "| 0 | 127.0703 | 47.66356 |  0.006552426 | -0.12363370 | 0.8536789 | 11.19721 | 16.12270 | 296.5077 | 0 |\n",
       "| 0 | 136.4297 | 59.84742 | -0.187845581 | -0.73812297 | 1.2968227 | 12.16606 | 15.45026 | 285.9310 | 0 |\n",
       "| 0 | 114.5078 | 53.90240 |  0.201161383 | -0.02478884 | 1.9464883 | 13.38173 | 10.00797 | 134.2389 | 0 |\n",
       "\n"
      ],
      "text/plain": [
       "     .pred_class M_IP      SD_IP    EK_IP        SK_IP       M_DM_SNR \n",
       "1    0            88.72656 40.67223  0.60086608   1.1234917  1.1789298\n",
       "2    0           119.48438 48.76506  0.03146022  -0.1121676  0.9991639\n",
       "3    0           136.09375 51.69100 -0.04590893  -0.2718164  9.3428094\n",
       "⋮    ⋮           ⋮         ⋮        ⋮            ⋮           ⋮        \n",
       "3578 0           127.0703  47.66356  0.006552426 -0.12363370 0.8536789\n",
       "3579 0           136.4297  59.84742 -0.187845581 -0.73812297 1.2968227\n",
       "3580 0           114.5078  53.90240  0.201161383 -0.02478884 1.9464883\n",
       "     SD_DM_SNR EK_DM_SNR SK_DM_SNR CLASS\n",
       "1    11.468720 14.269573 252.56731 0    \n",
       "2     9.279612 19.206230 479.75657 0    \n",
       "3    38.096400  4.345438  18.67365 0    \n",
       "⋮    ⋮         ⋮         ⋮         ⋮    \n",
       "3578 11.19721  16.12270  296.5077  0    \n",
       "3579 12.16606  15.45026  285.9310  0    \n",
       "3580 13.38173  10.00797  134.2389  0    "
      ]
     },
     "metadata": {},
     "output_type": "display_data"
    },
    {
     "data": {
      "text/plain": [
       "          Truth\n",
       "Prediction    0    1\n",
       "         0 3253   41\n",
       "         1   20  266"
      ]
     },
     "metadata": {},
     "output_type": "display_data"
    }
   ],
   "source": [
    "pulsar_predict <- predict(pulsar_fit, pulsar_test) |>\n",
    "                    bind_cols(pulsar_test)\n",
    "\n",
    "pulsar_predict\n",
    "\n",
    "pulsar_accuracy <- pulsar_predict |>\n",
    "                    metrics(truth = CLASS, estimate = .pred_class)\n",
    "\n",
    "pulsar_conf_mat <- pulsar_predict |>\n",
    "                    conf_mat(truth = CLASS, estimate = .pred_class)\n",
    "\n",
    "pulsar_conf_mat"
   ]
  },
  {
   "cell_type": "code",
   "execution_count": null,
   "id": "bb5ef205-b759-4cd2-b03e-25f671e751f3",
   "metadata": {},
   "outputs": [],
   "source": [
    "# create the grid of area/smoothness vals, and arrange in a data frame\n",
    "ekip_grid <- seq(min(pulsar_train$EK_IP), \n",
    "                max(pulsar_train$EK_IP), \n",
    "                length.out = 100)\n",
    "mip_grid <- seq(min(pulsar_train$M_IP), \n",
    "                max(pulsar_train$M_IP), \n",
    "                length.out = 100)\n",
    "mdmsnr_grid <- seq(min(pulsar_train$M_DM_SNR), \n",
    "                max(pulsar_train$M_DM_SNR), \n",
    "                length.out = 100)\n",
    "threegrid <- as_tibble(expand.grid(EK_IP = ekip_grid, \n",
    "                                M_IP = mip_grid,\n",
    "                                  M_DM_SNR = mdmsnr_grid))\n",
    "\n",
    "# use the fit workflow to make predictions at the grid points\n",
    "knnPredGrid <- predict(pulsar_fit, threegrid)\n",
    "\n",
    "# bind the predictions as a new column with the grid points\n",
    "prediction_table <- bind_cols(knnPredGrid, threegrid) |> \n",
    "  rename(Class = .pred_class)\n",
    "\n",
    "# plot:\n",
    "# 1. the colored scatter of the original data\n",
    "# 2. the faded colored scatter for the grid points\n",
    "wkflw_plot <-\n",
    "  ggplot() +\n",
    "  geom_point(data = pulsar_train, \n",
    "             mapping = aes(x = EK_IP, \n",
    "                           y = M_IP, \n",
    "                           color = CLASS), \n",
    "             alpha = 0.75) +\n",
    "  geom_point(data = prediction_table, \n",
    "             mapping = aes(x = EK_IP, \n",
    "                           y = M_IP, \n",
    "                           color = CLASS), \n",
    "             alpha = 0.02, \n",
    "             size = 5) +\n",
    "  labs(color = \"Pulsar or Non-Pulsar\", \n",
    "       x = \"Area (standardized)\", \n",
    "       y = \"Smoothness (standardized)\") +\n",
    "  scale_color_manual(labels = c(\"Malignant\", \"Benign\"), \n",
    "                     values = c(\"orange2\", \"steelblue2\")) +\n",
    "  theme(text = element_text(size = 12))\n",
    "\n",
    "wkflw_plot"
   ]
  },
  {
   "cell_type": "code",
   "execution_count": null,
   "id": "60331bcf-2387-4a0a-976b-94e200926f41",
   "metadata": {},
   "outputs": [],
   "source": []
  }
 ],
 "metadata": {
  "kernelspec": {
   "display_name": "R",
   "language": "R",
   "name": "ir"
  },
  "language_info": {
   "codemirror_mode": "r",
   "file_extension": ".r",
   "mimetype": "text/x-r-source",
   "name": "R",
   "pygments_lexer": "r",
   "version": "4.1.3"
  }
 },
 "nbformat": 4,
 "nbformat_minor": 5
}
